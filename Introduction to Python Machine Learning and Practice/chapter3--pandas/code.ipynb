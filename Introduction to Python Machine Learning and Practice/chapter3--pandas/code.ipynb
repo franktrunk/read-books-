{
 "cells": [
  {
   "cell_type": "code",
   "execution_count": null,
   "metadata": {},
   "outputs": [],
   "source": [
    "from pandas import Series\n",
    "\n",
    "obj = Series([2874242, 3914291, 2814412, 3714331, 2614442])\n",
    "print(obj)\n"
   ]
  },
  {
   "cell_type": "code",
   "execution_count": null,
   "metadata": {},
   "outputs": [],
   "source": [
    "from pandas import Series\n",
    "obj = Series([2874242, 3914291, 2814412, 3714331, 2614442])\n",
    "obj_index=obj.index\n",
    "obj_values=obj.values\n",
    "print(obj_index)\n",
    "print(obj_values)"
   ]
  },
  {
   "cell_type": "code",
   "execution_count": null,
   "metadata": {},
   "outputs": [],
   "source": [
    "from pandas import Series\n",
    "obj=Series([2874242, 3914291, 2814412, 3714331, 2614442],index=[\"qq_name1\",\"qq_name2\",\"qq_name3\",\"qq_name4\",\"qq_name5\"])\n",
    "print(obj)"
   ]
  },
  {
   "cell_type": "code",
   "execution_count": null,
   "metadata": {},
   "outputs": [],
   "source": [
    "from pandas import Series\n",
    "obj=Series([2874242, 3914291, 2814412, 3714331, 2614442],index=[\"qq_name1\",\"qq_name2\",\"qq_name3\",\"qq_name4\",\"qq_name5\"])\n",
    "print(obj[\"qq_name1\"])"
   ]
  },
  {
   "cell_type": "code",
   "execution_count": null,
   "metadata": {},
   "outputs": [],
   "source": [
    "from pandas import Series\n",
    "dicts={\"qq_name1\":28742,\"qq_name2\":39191,\"qq_name3\":28112,\"qq_name4\":37131,\"qq_name5\":26142}\n",
    "obj=Series(dicts)\n",
    "print(obj)"
   ]
  },
  {
   "cell_type": "code",
   "execution_count": null,
   "metadata": {},
   "outputs": [],
   "source": [
    "from pandas import Series\n",
    "goods_in=Series({\"苹果\":30,\"梨\":25,\"香蕉\":20,\"桃\":21,\"李子\":15})\n",
    "goods_other_in=Series({\"苹果\":10,\"梨\":20,\"香蕉\":15,\"桃\":10,\"西瓜\":50})\n",
    "goods_kucun=goods_in+goods_other_in\n",
    "print(goods_kucun)"
   ]
  },
  {
   "cell_type": "code",
   "execution_count": null,
   "metadata": {},
   "outputs": [],
   "source": [
    "from pandas import Series\n",
    "import numpy as np\n",
    "goods=Series([30,25,20,21,np.nan],index=[\"苹果\",\"梨\",\"香蕉\",\"桃\",\"李子\"])\n",
    "goods[\"李子\"]=15\n",
    "print(goods)"
   ]
  },
  {
   "cell_type": "code",
   "execution_count": null,
   "metadata": {},
   "outputs": [],
   "source": [
    "from pandas import DataFrame\n",
    "paints={\"字画名称\":[\"旭日东升\",\"富水长流\",\"招财进宝\",\"鸿运当头\"],\n",
    "\"字画底价\":[2860,498,1068,598],\n",
    "\"字画拍卖加价\":[1000,2000,500,1500]}\n",
    "goods_in=DataFrame(paints)\n",
    "print(goods_in)"
   ]
  },
  {
   "cell_type": "code",
   "execution_count": null,
   "metadata": {},
   "outputs": [],
   "source": [
    "from pandas import DataFrame\n",
    "paints={\"字画名称\":[\"旭日东升\",\"富水长流\",\"招财进宝\",\"鸿运当头\"],\n",
    "\"字画底价\":[2860,498,1068,598],\n",
    "\"字画拍卖加价\":[1000,2000,500,1500]}\n",
    "goods_in=DataFrame(paints,columns=[\"字画名称\",\"字画拍卖加价\",\"字画底价\"])\n",
    "print(goods_in)"
   ]
  },
  {
   "cell_type": "code",
   "execution_count": null,
   "metadata": {},
   "outputs": [],
   "source": [
    "from pandas import DataFrame\n",
    "paints={\"字画名称\":[\"旭日东升\",\"富水长流\",\"招财进宝\",\"鸿运当头\"],\n",
    "\"字画底价\":[2860,498,1068,598],\n",
    "\"字画拍卖加价\":[1000,2000,500,1500]}\n",
    "goods_in=DataFrame(paints,columns=[\"字画名称\",\"字画拍卖加价\",\"字画底价\",\"字画所属人\"])\n",
    "print(goods_in)"
   ]
  },
  {
   "cell_type": "code",
   "execution_count": 14,
   "metadata": {},
   "outputs": [
    {
     "name": "stdout",
     "output_type": "stream",
     "text": [
      "第一幅    2860\n",
      "第二幅     498\n",
      "第三幅    1068\n",
      "第四幅     598\n",
      "Name: 字画底价, dtype: int64\n"
     ]
    }
   ],
   "source": [
    "from pandas import DataFrame\n",
    "paints={\"字画名称\":[\"旭日东升\",\"富水长流\",\"招财进宝\",\"鸿运当头\"],\n",
    "\"字画底价\":[2860,498,1068,598],\n",
    "\"字画拍卖加价\":[1000,2000,500,1500]}\n",
    "goods_in=DataFrame(paints,index=[\"第一幅\",\"第二幅\",\"第三幅\",\"第四幅\"])\n",
    "paints_price=goods_in[\"字画底价\"]\n",
    "print(paints_price)\n"
   ]
  },
  {
   "cell_type": "code",
   "execution_count": 13,
   "metadata": {},
   "outputs": [
    {
     "name": "stdout",
     "output_type": "stream",
     "text": [
      "字画名称      招财进宝\n",
      "字画底价      1068\n",
      "字画拍卖加价     500\n",
      "Name: 第三幅, dtype: object\n"
     ]
    }
   ],
   "source": [
    "from pandas import DataFrame\n",
    "paints={\"字画名称\":[\"旭日东升\",\"富水长流\",\"招财进宝\",\"鸿运当头\"],\n",
    "\"字画底价\":[2860,498,1068,598],\n",
    "\"字画拍卖加价\":[1000,2000,500,1500]}\n",
    "goods_in=DataFrame(paints,index=[\"第一幅\",\"第二幅\",\"第三幅\",\"第四幅\"])\n",
    "paints_three=goods_in.loc[\"第三幅\"]\n",
    "print(paints_three)"
   ]
  },
  {
   "cell_type": "code",
   "execution_count": 15,
   "metadata": {},
   "outputs": [
    {
     "name": "stdout",
     "output_type": "stream",
     "text": [
      "     字画名称  字画底价\n",
      "第三幅  招财进宝  1068\n",
      "第四幅  鸿运当头   598\n",
      "---------------------------------------------------\n",
      "     字画名称  字画底价\n",
      "第三幅  招财进宝  1068\n",
      "第四幅  鸿运当头   598\n"
     ]
    }
   ],
   "source": [
    "from pandas import DataFrame\n",
    "paints={\"字画名称\":[\"旭日东升\",\"富水长流\",\"招财进宝\",\"鸿运当头\"],\n",
    "\"字画底价\":[2860,498,1068,598],\n",
    "\"字画拍卖加价\":[1000,2000,500,1500]}\n",
    "goods_in=DataFrame(paints,index=[\"第一幅\",\"第二幅\",\"第三幅\",\"第四幅\"])\n",
    "paints_three=goods_in.loc[\"第三幅\":\"第四幅\",\"字画名称\":\"字画底价\"]\n",
    "print(paints_three)\n",
    "print(\"---------------------------------------------------\")\n",
    "paints_four=goods_in.loc[[\"第三幅\",\"第四幅\"],[\"字画名称\",\"字画底价\"]]\n",
    "print(paints_four)"
   ]
  },
  {
   "cell_type": "code",
   "execution_count": 17,
   "metadata": {},
   "outputs": [
    {
     "name": "stdout",
     "output_type": "stream",
     "text": [
      "     字画名称  字画底价  字画拍卖加价\n",
      "第一幅  旭日东升  2860    1000\n",
      "第三幅  招财进宝  1068     500\n",
      "第四幅  鸿运当头   598    1500\n",
      "------------------------------------------\n",
      "     字画名称  字画底价  字画拍卖加价\n",
      "第四幅  鸿运当头   598    1500\n"
     ]
    }
   ],
   "source": [
    "from pandas import DataFrame\n",
    "paints={\"字画名称\":[\"旭日东升\",\"富水长流\",\"招财进宝\",\"鸿运当头\"],\n",
    "\"字画底价\":[2860,498,1068,598],\n",
    "\"字画拍卖加价\":[1000,2000,500,1500]}\n",
    "goods_in=DataFrame(paints,index=[\"第一幅\",\"第二幅\",\"第三幅\",\"第四幅\"])\n",
    "paints_three=goods_in.loc[goods_in[\"字画底价\"]>500,:]\n",
    "print(paints_three)\n",
    "print(\"------------------------------------------\")\n",
    "paints_four=goods_in.loc[(goods_in[\"字画底价\"]>500)&(goods_in[\"字画拍卖加价\"]>1000),:]\n",
    "print(paints_four)"
   ]
  },
  {
   "cell_type": "code",
   "execution_count": 18,
   "metadata": {},
   "outputs": [
    {
     "name": "stdout",
     "output_type": "stream",
     "text": [
      "   字画名称  字画拍卖加价  字画底价 字画所属人\n",
      "0  旭日东升    1000  2860    张三\n",
      "1  富水长流    2000   498    张三\n",
      "2  招财进宝     500  1068    张三\n",
      "3  鸿运当头    1500   598    张三\n"
     ]
    }
   ],
   "source": [
    "from pandas import DataFrame\n",
    "paints={\"字画名称\":[\"旭日东升\",\"富水长流\",\"招财进宝\",\"鸿运当头\"],\n",
    "\"字画底价\":[2860,498,1068,598],\n",
    "\"字画拍卖加价\":[1000,2000,500,1500]}\n",
    "goods_in=DataFrame(paints,columns=[\"字画名称\",\"字画拍卖加价\",\"字画底价\",\"字画所属人\"])\n",
    "goods_in[\"字画所属人\"]=\"张三\"\n",
    "print(goods_in)"
   ]
  },
  {
   "cell_type": "code",
   "execution_count": null,
   "metadata": {},
   "outputs": [],
   "source": []
  }
 ],
 "metadata": {
  "kernelspec": {
   "display_name": "menv312",
   "language": "python",
   "name": "python3"
  },
  "language_info": {
   "codemirror_mode": {
    "name": "ipython",
    "version": 3
   },
   "file_extension": ".py",
   "mimetype": "text/x-python",
   "name": "python",
   "nbconvert_exporter": "python",
   "pygments_lexer": "ipython3",
   "version": "3.12.11"
  }
 },
 "nbformat": 4,
 "nbformat_minor": 2
}
