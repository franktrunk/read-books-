{
 "cells": [
  {
   "cell_type": "code",
   "execution_count": null,
   "metadata": {},
   "outputs": [],
   "source": [
    "import numpy as np\n",
    "arr = np.array([10,20,30,40,50])\n",
    "print(arr)"
   ]
  },
  {
   "cell_type": "code",
   "execution_count": null,
   "metadata": {},
   "outputs": [],
   "source": [
    "import numpy as np\n",
    "arr=np.array([10,20,30,40,50],dtype=complex)\n",
    "print(arr)"
   ]
  },
  {
   "cell_type": "code",
   "execution_count": null,
   "metadata": {},
   "outputs": [],
   "source": [
    "import numpy as np\n",
    "lists1=[[101,202,303],[404,505,606]]\n",
    "arr1=np.array(lists1)\n",
    "print(\"数组arr1的数据类型是：\")\n",
    "print(arr1.dtype)\n",
    "print(\"数组arr1的数组形状是：\")\n",
    "print(arr1.shape)"
   ]
  },
  {
   "cell_type": "code",
   "execution_count": null,
   "metadata": {},
   "outputs": [],
   "source": [
    "import numpy as np\n",
    "arr1=np.zeros((3,4))\n",
    "print(arr1)"
   ]
  },
  {
   "cell_type": "code",
   "execution_count": null,
   "metadata": {},
   "outputs": [],
   "source": [
    "import numpy as np\n",
    "arr1=np.ones((3,4))\n",
    "print(arr1)"
   ]
  },
  {
   "cell_type": "code",
   "execution_count": null,
   "metadata": {},
   "outputs": [],
   "source": [
    "import numpy as np\n",
    "arr1=np.identity(3)\n",
    "print(arr1)"
   ]
  },
  {
   "cell_type": "code",
   "execution_count": null,
   "metadata": {},
   "outputs": [],
   "source": [
    "import numpy as np\n",
    "arr1=np.empty((4,4))\n",
    "print(arr1)"
   ]
  },
  {
   "cell_type": "code",
   "execution_count": null,
   "metadata": {},
   "outputs": [],
   "source": [
    "import numpy as np\n",
    "arr1=np.array([12.5,136.7,24.6,35.5,109.8])\n",
    "int_arr1=arr1.astype(int)\n",
    "print(int_arr1.dtype)\n",
    "print(int_arr1)\n",
    "str_arr1=arr1.astype(str)\n",
    "print(str_arr1.dtype)\n",
    "print(str_arr1)"
   ]
  },
  {
   "cell_type": "code",
   "execution_count": null,
   "metadata": {},
   "outputs": [],
   "source": [
    "import numpy as np\n",
    "samples=np.random.normal(size=(4,4))\n",
    "print(samples)"
   ]
  },
  {
   "cell_type": "code",
   "execution_count": null,
   "metadata": {},
   "outputs": [],
   "source": [
    "from random import normalvariate\n",
    "import time\n",
    "import numpy as np\n",
    "n=10000000\n",
    "start = time.time()\n",
    "samples = [normalvariate(0,1) for _ in range(n)]\n",
    "time1 = time.time() - start\n",
    "print(time1)\n",
    "\n",
    "start = time.time()\n",
    "times = np.random.normal(size = n)\n",
    "time2 = time.time()-start\n",
    "print(time2)"
   ]
  },
  {
   "cell_type": "code",
   "execution_count": null,
   "metadata": {},
   "outputs": [],
   "source": [
    "import numpy as np\n",
    "arr1=np.array([[10,20,30],[7,8,9]])\n",
    "multi_arr=arr1*arr1\n",
    "sub_arr=arr1-arr1\n",
    "print(\"大小相等的数组实现乘法\")\n",
    "print(multi_arr)\n",
    "print(\"大小相等的数组实现减法\")\n",
    "print(sub_arr)"
   ]
  },
  {
   "cell_type": "code",
   "execution_count": null,
   "metadata": {},
   "outputs": [],
   "source": [
    "import numpy as np\n",
    "arr1=np.array([[10,20,30],[7,8,9]])\n",
    "divide_arr=100/arr1\n",
    "multi_arr=arr1*0.5\n",
    "print(\"数组与标量值的除法运算\")\n",
    "print(divide_arr)\n",
    "print(\"数组与标量值的乘法运算\")\n",
    "print(multi_arr)"
   ]
  },
  {
   "cell_type": "code",
   "execution_count": null,
   "metadata": {},
   "outputs": [],
   "source": [
    "import numpy as np\n",
    "weathers=np.array([[20,21,22,18,19,21,22],[18,21,23,19,18,21,13],\n",
    "[18,19,22,21,21,17,16],[15,\n",
    "18,20,19,21,17,18]])\n",
    "print(weathers.mean(0))\n",
    "meaned=weathers-weathers.mean(0)\n",
    "print(meaned)\n",
    "print(meaned.mean(0))"
   ]
  },
  {
   "cell_type": "code",
   "execution_count": null,
   "metadata": {},
   "outputs": [],
   "source": [
    "import numpy as np\n",
    "weathers=np.array([[20,21,22,18,19,21,22],[18,21,23,19,18,21,13],\n",
    "[18,19,22,21,21,17,16],[15,18,\n",
    "20,19,21,17,18]])\n",
    "print(weathers.mean(1).reshape((4,1)))\n",
    "meaned=weathers-weathers.mean(1).reshape((4,1))\n",
    "print(meaned)\n",
    "print(meaned.mean(1))"
   ]
  },
  {
   "cell_type": "code",
   "execution_count": null,
   "metadata": {},
   "outputs": [],
   "source": [
    "import numpy as np\n",
    "arr=np.array([3.1,3.14,3.141,3.1415,3.14159,3.141592,3.1415926])\n",
    "print(arr[4])\n",
    "print(\"------------------\")\n",
    "print(arr[3:6])\n",
    "print(\"------------------\")\n",
    "arr[3:6]=3.14159265358\n",
    "print(arr)"
   ]
  },
  {
   "cell_type": "code",
   "execution_count": null,
   "metadata": {},
   "outputs": [],
   "source": [
    "import numpy as np\n",
    "arr=np.array([[[3.1,3.14],[3.141,3.1415]],[[3.14159,3.141592],\n",
    "[3.1415926,3.14159265]]])\n",
    "print(arr.shape)\n",
    "print(arr[1])\n",
    "print(\"-----------------\")\n",
    "print(arr[1,0])"
   ]
  },
  {
   "cell_type": "code",
   "execution_count": null,
   "metadata": {},
   "outputs": [],
   "source": [
    "import numpy as np\n",
    "arr=np.array([[[3.1,3.14],[3.141,3.1415]],[[3.14159,3.141592],\n",
    "[3.1415926,3.14159265]]])\n",
    "print(arr[-1])"
   ]
  },
  {
   "cell_type": "code",
   "execution_count": null,
   "metadata": {},
   "outputs": [],
   "source": [
    "import numpy as np\n",
    "names=np.array([\"业务员\",\"业务员\",\"经理\",\"主管\",\"业务员\",\"主管\"])\n",
    "salary=np.array([2520.00,3600.00,2745.00,4200.00,3805.00,3947.00])\n",
    "print(salary[names==\"经理\"])"
   ]
  },
  {
   "cell_type": "code",
   "execution_count": null,
   "metadata": {},
   "outputs": [],
   "source": [
    "import numpy as np\n",
    "arr=np.array([[1,1,1,1,1],[2,2,2,2,2],[3,3,3,3,3],[4,4,4,4,4],\n",
    "[5,5,5,5,5]])\n",
    "print(arr)\n",
    "arr_trans=arr.transpose()\n",
    "print(arr_trans)"
   ]
  },
  {
   "cell_type": "code",
   "execution_count": null,
   "metadata": {},
   "outputs": [],
   "source": [
    "import numpy as np\n",
    "arr=np.array([[1,1,1,1,1],[2,2,2,2,2],[3,3,3,3,3],[4,4,4,4,4],\n",
    "[5,5,5,5,5]])\n",
    "arr_trans=arr.T\n",
    "print(arr_trans)"
   ]
  },
  {
   "cell_type": "code",
   "execution_count": null,
   "metadata": {},
   "outputs": [],
   "source": [
    "import numpy as np\n",
    "arr=np.random.randn(4,)\n",
    "print(arr)\n",
    "result=np.dot(arr.T,arr)\n",
    "print(result)"
   ]
  },
  {
   "cell_type": "code",
   "execution_count": null,
   "metadata": {},
   "outputs": [],
   "source": [
    "import numpy as np\n",
    "arr=np.arange(16).reshape(2,2,4)\n",
    "print(arr)\n",
    "trans_arr=arr.transpose(1,0,2)\n",
    "print(\"-----------\")\n",
    "print(trans_arr)"
   ]
  },
  {
   "cell_type": "code",
   "execution_count": 31,
   "metadata": {},
   "outputs": [
    {
     "name": "stdout",
     "output_type": "stream",
     "text": [
      "[3 3 3]\n",
      "------------------------------\n",
      "[1. 1. 1. 0. 0. 0. 0. 0. 0. 0. 0. 0. 1. 1. 1. 0. 0. 0. 0. 0. 0. 0. 0. 0.\n",
      " 1. 1. 1.]\n",
      "------------------------------\n",
      "[[1. 0. 0.]\n",
      " [1. 0. 0.]\n",
      " [1. 0. 0.]\n",
      " [0. 1. 0.]\n",
      " [0. 1. 0.]\n",
      " [0. 1. 0.]\n",
      " [0. 0. 1.]\n",
      " [0. 0. 1.]\n",
      " [0. 0. 1.]]\n"
     ]
    }
   ],
   "source": [
    "import numpy as np\n",
    "arr1=np.array([3])\n",
    "repeat_arr1=arr1.repeat(3)\n",
    "print(repeat_arr1)\n",
    "print(\"------------------------------\")\n",
    "arr2=np.eye(3)\n",
    "repeat_arr2=arr2.repeat(3)\n",
    "print(repeat_arr2)\n",
    "print(\"------------------------------\")\n",
    "arr3=np.eye(3)\n",
    "repeat_arr3=arr3.repeat(3,axis=0)\n",
    "print(repeat_arr3)"
   ]
  },
  {
   "cell_type": "code",
   "execution_count": 32,
   "metadata": {},
   "outputs": [
    {
     "name": "stdout",
     "output_type": "stream",
     "text": [
      "[[1. 0. 0. 1. 0. 0. 1. 0. 0.]\n",
      " [0. 1. 0. 0. 1. 0. 0. 1. 0.]\n",
      " [0. 0. 1. 0. 0. 1. 0. 0. 1.]]\n"
     ]
    }
   ],
   "source": [
    "import numpy as np\n",
    "arr=np.eye(3)\n",
    "repeat_arr=np.tile(arr,3)\n",
    "print(repeat_arr)"
   ]
  }
 ],
 "metadata": {
  "kernelspec": {
   "display_name": "menv312",
   "language": "python",
   "name": "python3"
  },
  "language_info": {
   "codemirror_mode": {
    "name": "ipython",
    "version": 3
   },
   "file_extension": ".py",
   "mimetype": "text/x-python",
   "name": "python",
   "nbconvert_exporter": "python",
   "pygments_lexer": "ipython3",
   "version": "3.12.11"
  }
 },
 "nbformat": 4,
 "nbformat_minor": 2
}
