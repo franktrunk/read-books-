{
 "cells": [
  {
   "cell_type": "code",
   "execution_count": null,
   "metadata": {},
   "outputs": [],
   "source": [
    "import numpy as np\n",
    "arr = np.array([10,20,30,40,50])\n",
    "print(arr)"
   ]
  },
  {
   "cell_type": "code",
   "execution_count": null,
   "metadata": {},
   "outputs": [],
   "source": [
    "import numpy as np\n",
    "arr=np.array([10,20,30,40,50],dtype=complex)\n",
    "print(arr)"
   ]
  },
  {
   "cell_type": "code",
   "execution_count": null,
   "metadata": {},
   "outputs": [],
   "source": [
    "import numpy as np\n",
    "lists1=[[101,202,303],[404,505,606]]\n",
    "arr1=np.array(lists1)\n",
    "print(\"数组arr1的数据类型是：\")\n",
    "print(arr1.dtype)\n",
    "print(\"数组arr1的数组形状是：\")\n",
    "print(arr1.shape)"
   ]
  },
  {
   "cell_type": "code",
   "execution_count": null,
   "metadata": {},
   "outputs": [],
   "source": [
    "import numpy as np\n",
    "arr1=np.zeros((3,4))\n",
    "print(arr1)"
   ]
  },
  {
   "cell_type": "code",
   "execution_count": null,
   "metadata": {},
   "outputs": [],
   "source": [
    "import numpy as np\n",
    "arr1=np.ones((3,4))\n",
    "print(arr1)"
   ]
  },
  {
   "cell_type": "code",
   "execution_count": null,
   "metadata": {},
   "outputs": [],
   "source": [
    "import numpy as np\n",
    "arr1=np.identity(3)\n",
    "print(arr1)"
   ]
  },
  {
   "cell_type": "code",
   "execution_count": null,
   "metadata": {},
   "outputs": [],
   "source": [
    "import numpy as np\n",
    "arr1=np.empty((4,4))\n",
    "print(arr1)"
   ]
  },
  {
   "cell_type": "code",
   "execution_count": null,
   "metadata": {},
   "outputs": [],
   "source": [
    "import numpy as np\n",
    "arr1=np.array([12.5,136.7,24.6,35.5,109.8])\n",
    "int_arr1=arr1.astype(int)\n",
    "print(int_arr1.dtype)\n",
    "print(int_arr1)\n",
    "str_arr1=arr1.astype(str)\n",
    "print(str_arr1.dtype)\n",
    "print(str_arr1)"
   ]
  },
  {
   "cell_type": "code",
   "execution_count": null,
   "metadata": {},
   "outputs": [],
   "source": [
    "import numpy as np\n",
    "samples=np.random.normal(size=(4,4))\n",
    "print(samples)"
   ]
  },
  {
   "cell_type": "code",
   "execution_count": null,
   "metadata": {},
   "outputs": [],
   "source": [
    "from random import normalvariate\n",
    "import time\n",
    "import numpy as np\n",
    "n=10000000\n",
    "start = time.time()\n",
    "samples = [normalvariate(0,1) for _ in range(n)]\n",
    "time1 = time.time() - start\n",
    "print(time1)\n",
    "\n",
    "start = time.time()\n",
    "times = np.random.normal(size = n)\n",
    "time2 = time.time()-start\n",
    "print(time2)"
   ]
  },
  {
   "cell_type": "code",
   "execution_count": null,
   "metadata": {},
   "outputs": [],
   "source": [
    "import numpy as np\n",
    "arr1=np.array([[10,20,30],[7,8,9]])\n",
    "multi_arr=arr1*arr1\n",
    "sub_arr=arr1-arr1\n",
    "print(\"大小相等的数组实现乘法\")\n",
    "print(multi_arr)\n",
    "print(\"大小相等的数组实现减法\")\n",
    "print(sub_arr)"
   ]
  },
  {
   "cell_type": "code",
   "execution_count": null,
   "metadata": {},
   "outputs": [],
   "source": [
    "import numpy as np\n",
    "arr1=np.array([[10,20,30],[7,8,9]])\n",
    "divide_arr=100/arr1\n",
    "multi_arr=arr1*0.5\n",
    "print(\"数组与标量值的除法运算\")\n",
    "print(divide_arr)\n",
    "print(\"数组与标量值的乘法运算\")\n",
    "print(multi_arr)"
   ]
  },
  {
   "cell_type": "code",
   "execution_count": null,
   "metadata": {},
   "outputs": [],
   "source": [
    "import numpy as np\n",
    "weathers=np.array([[20,21,22,18,19,21,22],[18,21,23,19,18,21,13],\n",
    "[18,19,22,21,21,17,16],[15,\n",
    "18,20,19,21,17,18]])\n",
    "print(weathers.mean(0))\n",
    "meaned=weathers-weathers.mean(0)\n",
    "print(meaned)\n",
    "print(meaned.mean(0))"
   ]
  },
  {
   "cell_type": "code",
   "execution_count": null,
   "metadata": {},
   "outputs": [],
   "source": [
    "import numpy as np\n",
    "weathers=np.array([[20,21,22,18,19,21,22],[18,21,23,19,18,21,13],\n",
    "[18,19,22,21,21,17,16],[15,18,\n",
    "20,19,21,17,18]])\n",
    "print(weathers.mean(1).reshape((4,1)))\n",
    "meaned=weathers-weathers.mean(1).reshape((4,1))\n",
    "print(meaned)\n",
    "print(meaned.mean(1))"
   ]
  },
  {
   "cell_type": "code",
   "execution_count": null,
   "metadata": {},
   "outputs": [],
   "source": [
    "import numpy as np\n",
    "arr=np.array([3.1,3.14,3.141,3.1415,3.14159,3.141592,3.1415926])\n",
    "print(arr[4])\n",
    "print(\"------------------\")\n",
    "print(arr[3:6])\n",
    "print(\"------------------\")\n",
    "arr[3:6]=3.14159265358\n",
    "print(arr)"
   ]
  },
  {
   "cell_type": "code",
   "execution_count": null,
   "metadata": {},
   "outputs": [],
   "source": [
    "import numpy as np\n",
    "arr=np.array([[[3.1,3.14],[3.141,3.1415]],[[3.14159,3.141592],\n",
    "[3.1415926,3.14159265]]])\n",
    "print(arr.shape)\n",
    "print(arr[1])\n",
    "print(\"-----------------\")\n",
    "print(arr[1,0])"
   ]
  },
  {
   "cell_type": "code",
   "execution_count": null,
   "metadata": {},
   "outputs": [],
   "source": [
    "import numpy as np\n",
    "arr=np.array([[[3.1,3.14],[3.141,3.1415]],[[3.14159,3.141592],\n",
    "[3.1415926,3.14159265]]])\n",
    "print(arr[-1])"
   ]
  },
  {
   "cell_type": "code",
   "execution_count": null,
   "metadata": {},
   "outputs": [],
   "source": [
    "import numpy as np\n",
    "names=np.array([\"业务员\",\"业务员\",\"经理\",\"主管\",\"业务员\",\"主管\"])\n",
    "salary=np.array([2520.00,3600.00,2745.00,4200.00,3805.00,3947.00])\n",
    "print(salary[names==\"经理\"])"
   ]
  },
  {
   "cell_type": "code",
   "execution_count": null,
   "metadata": {},
   "outputs": [],
   "source": [
    "import numpy as np\n",
    "arr=np.array([[1,1,1,1,1],[2,2,2,2,2],[3,3,3,3,3],[4,4,4,4,4],\n",
    "[5,5,5,5,5]])\n",
    "print(arr)\n",
    "arr_trans=arr.transpose()\n",
    "print(arr_trans)"
   ]
  },
  {
   "cell_type": "code",
   "execution_count": null,
   "metadata": {},
   "outputs": [],
   "source": [
    "import numpy as np\n",
    "arr=np.array([[1,1,1,1,1],[2,2,2,2,2],[3,3,3,3,3],[4,4,4,4,4],\n",
    "[5,5,5,5,5]])\n",
    "arr_trans=arr.T\n",
    "print(arr_trans)"
   ]
  },
  {
   "cell_type": "code",
   "execution_count": null,
   "metadata": {},
   "outputs": [],
   "source": [
    "import numpy as np\n",
    "arr=np.random.randn(4,)\n",
    "print(arr)\n",
    "result=np.dot(arr.T,arr)\n",
    "print(result)"
   ]
  },
  {
   "cell_type": "code",
   "execution_count": null,
   "metadata": {},
   "outputs": [],
   "source": [
    "import numpy as np\n",
    "arr=np.arange(16).reshape(2,2,4)\n",
    "print(arr)\n",
    "trans_arr=arr.transpose(1,0,2)\n",
    "print(\"-----------\")\n",
    "print(trans_arr)"
   ]
  },
  {
   "cell_type": "code",
   "execution_count": null,
   "metadata": {},
   "outputs": [],
   "source": [
    "import numpy as np\n",
    "arr1=np.array([3])\n",
    "repeat_arr1=arr1.repeat(3)\n",
    "print(repeat_arr1)\n",
    "print(\"------------------------------\")\n",
    "arr2=np.eye(3)\n",
    "repeat_arr2=arr2.repeat(3)\n",
    "print(repeat_arr2)\n",
    "print(\"------------------------------\")\n",
    "arr3=np.eye(3)\n",
    "repeat_arr3=arr3.repeat(3,axis=0)\n",
    "print(repeat_arr3)"
   ]
  },
  {
   "cell_type": "code",
   "execution_count": null,
   "metadata": {},
   "outputs": [],
   "source": [
    "import numpy as np\n",
    "arr=np.eye(3)\n",
    "repeat_arr=np.tile(arr,3)\n",
    "print(repeat_arr)"
   ]
  },
  {
   "cell_type": "code",
   "execution_count": null,
   "metadata": {},
   "outputs": [],
   "source": [
    "import numpy as np\n",
    "A = np.array([[1, 2],\n",
    "              [3, 4]])\n",
    "B = np.array([[5, 6],\n",
    "              [7, 8]])\n",
    "\n",
    "print(np.multiply(A, B))"
   ]
  },
  {
   "cell_type": "code",
   "execution_count": null,
   "metadata": {},
   "outputs": [],
   "source": [
    "import numpy as np\n",
    "\n",
    "a = np.array([2, 3, 4])\n",
    "b = np.array([3, 2, 1])\n",
    "\n",
    "print(np.power(a, b))"
   ]
  },
  {
   "cell_type": "code",
   "execution_count": null,
   "metadata": {},
   "outputs": [],
   "source": [
    "import numpy as np\n",
    "arr=np.arange(101)\n",
    "sum_arr=arr.sum()\n",
    "mean_arr=arr.mean()\n",
    "std_arr=arr.std()\n",
    "print(sum_arr)\n",
    "print(\"---------------------\")\n",
    "print(mean_arr)\n",
    "print(\"---------------------\")\n",
    "print(std_arr)"
   ]
  },
  {
   "cell_type": "code",
   "execution_count": null,
   "metadata": {},
   "outputs": [],
   "source": [
    "import numpy as np\n",
    "arr=np.arange(100)\n",
    "arr=arr.reshape(4,25)\n",
    "print(arr)\n",
    "sum_arr=arr.sum(axis=1)\n",
    "mean_arr=arr.mean(axis=1)\n",
    "std_arr=arr.std(axis=1)\n",
    "print(sum_arr)\n",
    "print(\"---------------------\")\n",
    "print(mean_arr)\n",
    "print(\"---------------------\")\n",
    "print(std_arr)"
   ]
  },
  {
   "cell_type": "code",
   "execution_count": null,
   "metadata": {},
   "outputs": [],
   "source": [
    "import numpy as np\n",
    "arr=np.arange(100)\n",
    "arr=arr.reshape(4,25)\n",
    "sum_arr=arr.cumsum(0)\n",
    "multi_arr=arr.cumprod(1)\n",
    "print(sum_arr)\n",
    "print(\"---------------------\")\n",
    "print(multi_arr)"
   ]
  },
  {
   "cell_type": "code",
   "execution_count": null,
   "metadata": {},
   "outputs": [],
   "source": [
    "import numpy as np\n",
    "arr=np.array([[20,-33,40,-46,56],[13,25,-17,98,-20]])\n",
    "sum_arr=(arr>0).sum()\n",
    "print(sum_arr)"
   ]
  },
  {
   "cell_type": "code",
   "execution_count": null,
   "metadata": {},
   "outputs": [],
   "source": [
    "import numpy as np\n",
    "arr=np.array([[20,-33,40,-46,56],[13,25,-17,98,-20]])\n",
    "arr_bool=arr>0\n",
    "any_bool=arr_bool.any()\n",
    "all_bool=arr_bool.all()\n",
    "print(any_bool)\n",
    "print(\"-----------------------------\")\n",
    "print(all_bool)"
   ]
  },
  {
   "cell_type": "code",
   "execution_count": null,
   "metadata": {},
   "outputs": [],
   "source": [
    "red_arr1=[20,30,40,50,60,70,80,90]\n",
    "red_arr2=[0.2,0.3,0.4,0.5,0.6,0.7,0.8,0.9]\n",
    "bool_arr=[True,False,True,False,True,False,False,True]\n",
    "red_result=[(red1 if flag else red2)for red1,red2,flag in\n",
    "zip(red_arr1,red_arr2,bool_arr)]\n",
    "print(red_result)"
   ]
  },
  {
   "cell_type": "code",
   "execution_count": null,
   "metadata": {},
   "outputs": [],
   "source": [
    "import numpy as np\n",
    "man=np.array([[20,21,23],[25,26,27]])\n",
    "woman=np.array([[23,22,20],[27,28,26]])\n",
    "all=np.concatenate([man,woman],axis=0)\n",
    "cope=np.concatenate([man,woman],axis=1)\n",
    "print(all)\n",
    "print(\"------------------\")\n",
    "print(cope)"
   ]
  },
  {
   "cell_type": "code",
   "execution_count": null,
   "metadata": {},
   "outputs": [],
   "source": [
    "import numpy as np\n",
    "cope=np.array([20,21,23,23,22,20,25,26,27,27,28,26])\n",
    "split_cope=np.split(cope,[1,3,6,7])\n",
    "print(split_cope)"
   ]
  },
  {
   "cell_type": "code",
   "execution_count": null,
   "metadata": {},
   "outputs": [],
   "source": [
    "import numpy as np\n",
    "cope=np.array([20,21,23,23,22,20,25,26,27,27,28,26])\n",
    "cope.sort()\n",
    "print(cope)"
   ]
  },
  {
   "cell_type": "code",
   "execution_count": null,
   "metadata": {},
   "outputs": [],
   "source": [
    "import numpy as np\n",
    "cope=np.array([[20,23,21,22,24],[28,25,27,26,29]])\n",
    "cope.sort(axis=1)\n",
    "print(cope)"
   ]
  },
  {
   "cell_type": "code",
   "execution_count": null,
   "metadata": {},
   "outputs": [],
   "source": [
    "import numpy as np\n",
    "names=np.array([\"经理\",\"副经理\",\"主管\",\"主管\",\"主管\",\"技术员\",\"业务员\"])\n",
    "uni_names=np.unique(names)\n",
    "print(uni_names)"
   ]
  },
  {
   "cell_type": "code",
   "execution_count": 16,
   "metadata": {},
   "outputs": [],
   "source": [
    "import numpy as np\n",
    "arr=np.random.randn(20)\n",
    "np.save(\"arr_file\",arr)"
   ]
  },
  {
   "cell_type": "code",
   "execution_count": null,
   "metadata": {},
   "outputs": [],
   "source": [
    "import numpy as np\n",
    "arr=np.load(\"arr_file.npy\")\n",
    "print(arr)"
   ]
  },
  {
   "cell_type": "code",
   "execution_count": 18,
   "metadata": {},
   "outputs": [],
   "source": [
    "import numpy as np\n",
    "arr=np.random.randn(20)\n",
    "np.savez( \"arr_file\",a=arr)"
   ]
  },
  {
   "cell_type": "code",
   "execution_count": null,
   "metadata": {},
   "outputs": [],
   "source": [
    "import numpy as np\n",
    "arr=np.load(\"arr_file.npz\")\n",
    "print(arr[\"a\"])"
   ]
  },
  {
   "cell_type": "code",
   "execution_count": null,
   "metadata": {},
   "outputs": [],
   "source": []
  }
 ],
 "metadata": {
  "kernelspec": {
   "display_name": "menv312",
   "language": "python",
   "name": "python3"
  },
  "language_info": {
   "codemirror_mode": {
    "name": "ipython",
    "version": 3
   },
   "file_extension": ".py",
   "mimetype": "text/x-python",
   "name": "python",
   "nbconvert_exporter": "python",
   "pygments_lexer": "ipython3",
   "version": "3.12.11"
  }
 },
 "nbformat": 4,
 "nbformat_minor": 2
}
